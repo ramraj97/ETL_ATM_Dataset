{
 "cells": [
  {
   "cell_type": "markdown",
   "id": "ef32a094",
   "metadata": {},
   "source": [
    "# ETL Project - Bank ATM Case study"
   ]
  },
  {
   "cell_type": "markdown",
   "id": "d71e76b7",
   "metadata": {},
   "source": [
    "### Initializing Spark Session"
   ]
  },
  {
   "cell_type": "code",
   "execution_count": 1,
   "id": "252318d6",
   "metadata": {},
   "outputs": [
    {
     "name": "stdout",
     "output_type": "stream",
     "text": [
      "Starting Spark application\n"
     ]
    },
    {
     "data": {
      "text/html": [
       "<table>\n",
       "<tr><th>ID</th><th>YARN Application ID</th><th>Kind</th><th>State</th><th>Spark UI</th><th>Driver log</th><th>User</th><th>Current session?</th></tr><tr><td>2</td><td>application_1699251209521_0004</td><td>pyspark</td><td>idle</td><td><a target=\"_blank\" href=\"http://ip-172-31-33-85.ec2.internal:20888/proxy/application_1699251209521_0004/\">Link</a></td><td><a target=\"_blank\" href=\"http://ip-172-31-33-85.ec2.internal:8042/node/containerlogs/container_1699251209521_0004_01_000001/livy\">Link</a></td><td>None</td><td>✔</td></tr></table>"
      ],
      "text/plain": [
       "<IPython.core.display.HTML object>"
      ]
     },
     "metadata": {},
     "output_type": "display_data"
    },
    {
     "data": {
      "application/vnd.jupyter.widget-view+json": {
       "model_id": "",
       "version_major": 2,
       "version_minor": 0
      },
      "text/plain": [
       "FloatProgress(value=0.0, bar_style='info', description='Progress:', layout=Layout(height='25px', width='50%'),…"
      ]
     },
     "metadata": {},
     "output_type": "display_data"
    },
    {
     "name": "stdout",
     "output_type": "stream",
     "text": [
      "SparkSession available as 'spark'.\n"
     ]
    },
    {
     "data": {
      "application/vnd.jupyter.widget-view+json": {
       "model_id": "",
       "version_major": 2,
       "version_minor": 0
      },
      "text/plain": [
       "FloatProgress(value=0.0, bar_style='info', description='Progress:', layout=Layout(height='25px', width='50%'),…"
      ]
     },
     "metadata": {},
     "output_type": "display_data"
    },
    {
     "name": "stdout",
     "output_type": "stream",
     "text": [
      "<pyspark.sql.session.SparkSession object at 0x7fb359cd0dd0>"
     ]
    }
   ],
   "source": [
    "spark"
   ]
  },
  {
   "cell_type": "markdown",
   "id": "4b276c11",
   "metadata": {},
   "source": [
    "### Reading the data to Spark from HDFS location"
   ]
  },
  {
   "cell_type": "code",
   "execution_count": 2,
   "id": "777fcbbd",
   "metadata": {},
   "outputs": [
    {
     "data": {
      "application/vnd.jupyter.widget-view+json": {
       "model_id": "",
       "version_major": 2,
       "version_minor": 0
      },
      "text/plain": [
       "FloatProgress(value=0.0, bar_style='info', description='Progress:', layout=Layout(height='25px', width='50%'),…"
      ]
     },
     "metadata": {},
     "output_type": "display_data"
    }
   ],
   "source": [
    "hdfsPath = '/user/livy/part-m-00000'"
   ]
  },
  {
   "cell_type": "code",
   "execution_count": 3,
   "id": "3177ae73",
   "metadata": {},
   "outputs": [
    {
     "data": {
      "application/vnd.jupyter.widget-view+json": {
       "model_id": "",
       "version_major": 2,
       "version_minor": 0
      },
      "text/plain": [
       "FloatProgress(value=0.0, bar_style='info', description='Progress:', layout=Layout(height='25px', width='50%'),…"
      ]
     },
     "metadata": {},
     "output_type": "display_data"
    }
   ],
   "source": [
    "from pyspark.sql.types import StructType, StructField, IntegerType, StringType, BooleanType, DoubleType, LongType"
   ]
  },
  {
   "cell_type": "markdown",
   "id": "f7a4fd01",
   "metadata": {},
   "source": [
    "### Creating input file schema (as per given format) using StructType"
   ]
  },
  {
   "cell_type": "code",
   "execution_count": 4,
   "id": "9e609b45",
   "metadata": {},
   "outputs": [
    {
     "data": {
      "application/vnd.jupyter.widget-view+json": {
       "model_id": "",
       "version_major": 2,
       "version_minor": 0
      },
      "text/plain": [
       "FloatProgress(value=0.0, bar_style='info', description='Progress:', layout=Layout(height='25px', width='50%'),…"
      ]
     },
     "metadata": {},
     "output_type": "display_data"
    }
   ],
   "source": [
    "fileSchema = StructType([StructField('Year', IntegerType(),True),\n",
    "                        StructField('Month', StringType(),True),\n",
    "                        StructField('Day', IntegerType(),True),\n",
    "                        StructField('Weekday', StringType(),True),\n",
    "                        StructField('Hour', IntegerType(),True),\n",
    "                        StructField('atm_status', StringType(),True),\n",
    "                        StructField('atm_id', StringType(),True),\n",
    "                        StructField('atm_manufacturer', StringType(),True),\n",
    "                        StructField('atm_location', StringType(),True),\n",
    "                        StructField('atm_street_name', StringType(),True),\n",
    "                        StructField('atm_street_number', IntegerType(),True),\n",
    "                        StructField('atm_zipcode', IntegerType(),True),\n",
    "                        StructField('atm_lat', DoubleType(),True),\n",
    "                        StructField('atm_lon', DoubleType(),True),\n",
    "                        StructField('currency', StringType(),True),\n",
    "                        StructField('card_type', StringType(),True),\n",
    "                        StructField('transaction_amount', IntegerType(), True),\n",
    "                        StructField('service', StringType(),True),\n",
    "                        StructField('message_code', StringType(),True),\n",
    "                        StructField('message_text', StringType(),True),\n",
    "                        StructField('weather_lat', DoubleType(),True),\n",
    "                        StructField('weather_long', DoubleType(),True),\n",
    "                        StructField('weather_city_id', IntegerType(),True), \n",
    "                        StructField('weather_city_name', StringType(),True),\n",
    "                        StructField('temp', DoubleType(),True),\n",
    "                        StructField('pressure', IntegerType(),True),\n",
    "                        StructField('humidity', IntegerType(),True),\n",
    "                        StructField('wind_speed', IntegerType(),True),\n",
    "                        StructField('wind_deg', IntegerType(),True),\n",
    "                        StructField('rain_3h', DoubleType(),True), \n",
    "                        StructField('clouds_all', IntegerType(),True),\n",
    "                        StructField('weather_id', IntegerType(),True),\n",
    "                        StructField('weather_main', StringType(),True),\n",
    "                        StructField('weather_description', StringType(),True)\n",
    "                        ])"
   ]
  },
  {
   "cell_type": "code",
   "execution_count": 5,
   "id": "36880b42",
   "metadata": {},
   "outputs": [
    {
     "data": {
      "application/vnd.jupyter.widget-view+json": {
       "model_id": "",
       "version_major": 2,
       "version_minor": 0
      },
      "text/plain": [
       "FloatProgress(value=0.0, bar_style='info', description='Progress:', layout=Layout(height='25px', width='50%'),…"
      ]
     },
     "metadata": {},
     "output_type": "display_data"
    }
   ],
   "source": [
    "file1 = spark.read.csv(hdfsPath, header = False, schema = fileSchema)"
   ]
  },
  {
   "cell_type": "code",
   "execution_count": 6,
   "id": "89dfaf8b",
   "metadata": {},
   "outputs": [
    {
     "data": {
      "application/vnd.jupyter.widget-view+json": {
       "model_id": "",
       "version_major": 2,
       "version_minor": 0
      },
      "text/plain": [
       "FloatProgress(value=0.0, bar_style='info', description='Progress:', layout=Layout(height='25px', width='50%'),…"
      ]
     },
     "metadata": {},
     "output_type": "display_data"
    },
    {
     "name": "stdout",
     "output_type": "stream",
     "text": [
      "root\n",
      " |-- Year: integer (nullable = true)\n",
      " |-- Month: string (nullable = true)\n",
      " |-- Day: integer (nullable = true)\n",
      " |-- Weekday: string (nullable = true)\n",
      " |-- Hour: integer (nullable = true)\n",
      " |-- atm_status: string (nullable = true)\n",
      " |-- atm_id: string (nullable = true)\n",
      " |-- atm_manufacturer: string (nullable = true)\n",
      " |-- atm_location: string (nullable = true)\n",
      " |-- atm_street_name: string (nullable = true)\n",
      " |-- atm_street_number: integer (nullable = true)\n",
      " |-- atm_zipcode: integer (nullable = true)\n",
      " |-- atm_lat: double (nullable = true)\n",
      " |-- atm_lon: double (nullable = true)\n",
      " |-- currency: string (nullable = true)\n",
      " |-- card_type: string (nullable = true)\n",
      " |-- transaction_amount: integer (nullable = true)\n",
      " |-- service: string (nullable = true)\n",
      " |-- message_code: string (nullable = true)\n",
      " |-- message_text: string (nullable = true)\n",
      " |-- weather_lat: double (nullable = true)\n",
      " |-- weather_long: double (nullable = true)\n",
      " |-- weather_city_id: integer (nullable = true)\n",
      " |-- weather_city_name: string (nullable = true)\n",
      " |-- temp: double (nullable = true)\n",
      " |-- pressure: integer (nullable = true)\n",
      " |-- humidity: integer (nullable = true)\n",
      " |-- wind_speed: integer (nullable = true)\n",
      " |-- wind_deg: integer (nullable = true)\n",
      " |-- rain_3h: double (nullable = true)\n",
      " |-- clouds_all: integer (nullable = true)\n",
      " |-- weather_id: integer (nullable = true)\n",
      " |-- weather_main: string (nullable = true)\n",
      " |-- weather_description: string (nullable = true)"
     ]
    }
   ],
   "source": [
    "file1.printSchema()"
   ]
  },
  {
   "cell_type": "code",
   "execution_count": 7,
   "id": "d219954c",
   "metadata": {},
   "outputs": [
    {
     "data": {
      "application/vnd.jupyter.widget-view+json": {
       "model_id": "",
       "version_major": 2,
       "version_minor": 0
      },
      "text/plain": [
       "FloatProgress(value=0.0, bar_style='info', description='Progress:', layout=Layout(height='25px', width='50%'),…"
      ]
     },
     "metadata": {},
     "output_type": "display_data"
    },
    {
     "name": "stdout",
     "output_type": "stream",
     "text": [
      "+----+-------+---+-------+----+----------+------+----------------+------------+---------------+-----------------+-----------+-------+-------+--------+----------+------------------+----------+------------+------------+-----------+------------+---------------+-----------------+------+--------+--------+----------+--------+-------+----------+----------+------------+-------------------+\n",
      "|Year|  Month|Day|Weekday|Hour|atm_status|atm_id|atm_manufacturer|atm_location|atm_street_name|atm_street_number|atm_zipcode|atm_lat|atm_lon|currency| card_type|transaction_amount|   service|message_code|message_text|weather_lat|weather_long|weather_city_id|weather_city_name|  temp|pressure|humidity|wind_speed|wind_deg|rain_3h|clouds_all|weather_id|weather_main|weather_description|\n",
      "+----+-------+---+-------+----+----------+------+----------------+------------+---------------+-----------------+-----------+-------+-------+--------+----------+------------------+----------+------------+------------+-----------+------------+---------------+-----------------+------+--------+--------+----------+--------+-------+----------+----------+------------+-------------------+\n",
      "|2017|January|  1| Sunday|   0|    Active|     1|             NCR|  NÃƒÂ¦stved|    Farimagsvej|                8|       4700| 55.233| 11.763|     DKK|MasterCard|              5643|Withdrawal|        null|        null|      55.23|      11.761|        2616038|         Naestved|281.15|    1014|      87|         7|     260|  0.215|        92|       500|        Rain|         light rain|\n",
      "|2017|January|  1| Sunday|   0|  Inactive|     2|             NCR|    Vejgaard|     Hadsundvej|               20|       9000| 57.043|   9.95|     DKK|MasterCard|              1764|Withdrawal|        null|        null|     57.048|       9.935|        2616235|   NÃƒÂ¸rresundby|280.64|    1020|      93|         9|     250|   0.59|        92|       500|        Rain|         light rain|\n",
      "+----+-------+---+-------+----+----------+------+----------------+------------+---------------+-----------------+-----------+-------+-------+--------+----------+------------------+----------+------------+------------+-----------+------------+---------------+-----------------+------+--------+--------+----------+--------+-------+----------+----------+------------+-------------------+\n",
      "only showing top 2 rows"
     ]
    }
   ],
   "source": [
    "file1.show(2)"
   ]
  },
  {
   "cell_type": "markdown",
   "id": "3a584fea",
   "metadata": {},
   "source": [
    "### Total count of imported data"
   ]
  },
  {
   "cell_type": "code",
   "execution_count": 8,
   "id": "9b6b19b7",
   "metadata": {},
   "outputs": [
    {
     "data": {
      "application/vnd.jupyter.widget-view+json": {
       "model_id": "",
       "version_major": 2,
       "version_minor": 0
      },
      "text/plain": [
       "FloatProgress(value=0.0, bar_style='info', description='Progress:', layout=Layout(height='25px', width='50%'),…"
      ]
     },
     "metadata": {},
     "output_type": "display_data"
    },
    {
     "name": "stdout",
     "output_type": "stream",
     "text": [
      "2468572"
     ]
    }
   ],
   "source": [
    "file1.select('*').count()"
   ]
  },
  {
   "cell_type": "markdown",
   "id": "c4963252",
   "metadata": {},
   "source": [
    "## Creating the Dimension and Fact tables according to given schema"
   ]
  },
  {
   "cell_type": "markdown",
   "id": "714ba78b",
   "metadata": {},
   "source": [
    "### 1. Location Dimension - first dimension table"
   ]
  },
  {
   "cell_type": "markdown",
   "id": "c75c0f55",
   "metadata": {},
   "source": [
    "##### - Creating first data dimension for Location dataframe, pertianing to all the details for ATM location"
   ]
  },
  {
   "cell_type": "code",
   "execution_count": 9,
   "id": "559ac2cc",
   "metadata": {},
   "outputs": [
    {
     "data": {
      "application/vnd.jupyter.widget-view+json": {
       "model_id": "",
       "version_major": 2,
       "version_minor": 0
      },
      "text/plain": [
       "FloatProgress(value=0.0, bar_style='info', description='Progress:', layout=Layout(height='25px', width='50%'),…"
      ]
     },
     "metadata": {},
     "output_type": "display_data"
    }
   ],
   "source": [
    "dim_table1 = file1.select(\"atm_location\",\"atm_street_name\",\"atm_street_number\",\"atm_zipcode\",\"atm_lat\",\"atm_lon\").distinct()"
   ]
  },
  {
   "cell_type": "code",
   "execution_count": 10,
   "id": "9848286d",
   "metadata": {},
   "outputs": [
    {
     "data": {
      "application/vnd.jupyter.widget-view+json": {
       "model_id": "",
       "version_major": 2,
       "version_minor": 0
      },
      "text/plain": [
       "FloatProgress(value=0.0, bar_style='info', description='Progress:', layout=Layout(height='25px', width='50%'),…"
      ]
     },
     "metadata": {},
     "output_type": "display_data"
    },
    {
     "name": "stdout",
     "output_type": "stream",
     "text": [
      "109"
     ]
    }
   ],
   "source": [
    "dim_table1.count()"
   ]
  },
  {
   "cell_type": "code",
   "execution_count": 11,
   "id": "e9970fce",
   "metadata": {},
   "outputs": [
    {
     "data": {
      "application/vnd.jupyter.widget-view+json": {
       "model_id": "",
       "version_major": 2,
       "version_minor": 0
      },
      "text/plain": [
       "FloatProgress(value=0.0, bar_style='info', description='Progress:', layout=Layout(height='25px', width='50%'),…"
      ]
     },
     "metadata": {},
     "output_type": "display_data"
    }
   ],
   "source": [
    "from pyspark.sql.window import Window\n",
    "from pyspark.sql.functions import *"
   ]
  },
  {
   "cell_type": "markdown",
   "id": "3e37c4b7",
   "metadata": {},
   "source": [
    "##### - Creating primary key (**location_id**) for Location dimension (**DIM_LOCATION**)"
   ]
  },
  {
   "cell_type": "code",
   "execution_count": 12,
   "id": "603c0b47",
   "metadata": {},
   "outputs": [
    {
     "data": {
      "application/vnd.jupyter.widget-view+json": {
       "model_id": "",
       "version_major": 2,
       "version_minor": 0
      },
      "text/plain": [
       "FloatProgress(value=0.0, bar_style='info', description='Progress:', layout=Layout(height='25px', width='50%'),…"
      ]
     },
     "metadata": {},
     "output_type": "display_data"
    }
   ],
   "source": [
    "window_spec = Window.orderBy(\"atm_location\")\n",
    "dim_location = dim_table1.withColumn(\"location_id\", row_number().over(window_spec))"
   ]
  },
  {
   "cell_type": "code",
   "execution_count": 13,
   "id": "eacb8e28",
   "metadata": {},
   "outputs": [
    {
     "data": {
      "application/vnd.jupyter.widget-view+json": {
       "model_id": "",
       "version_major": 2,
       "version_minor": 0
      },
      "text/plain": [
       "FloatProgress(value=0.0, bar_style='info', description='Progress:', layout=Layout(height='25px', width='50%'),…"
      ]
     },
     "metadata": {},
     "output_type": "display_data"
    },
    {
     "name": "stdout",
     "output_type": "stream",
     "text": [
      "+--------------------+---------------+-----------------+-----------+-------+-------+-----------+\n",
      "|        atm_location|atm_street_name|atm_street_number|atm_zipcode|atm_lat|atm_lon|location_id|\n",
      "+--------------------+---------------+-----------------+-----------+-------+-------+-----------+\n",
      "|             Aabybro|   ÃƒËœstergade|                6|       9440| 57.162|   9.73|          1|\n",
      "|      Aalborg Hallen|   Europa Plads|                4|       9000| 57.044|  9.913|          2|\n",
      "|Aalborg Storcente...|       Hobrovej|              452|       9200| 57.005|  9.876|          3|\n",
      "|Aalborg Storcente...|       Hobrovej|              452|       9200| 57.005|  9.876|          4|\n",
      "|         Aalborg Syd|       Hobrovej|              440|       9200| 57.005|  9.881|          5|\n",
      "+--------------------+---------------+-----------------+-----------+-------+-------+-----------+\n",
      "only showing top 5 rows"
     ]
    }
   ],
   "source": [
    "dim_location.show(5)"
   ]
  },
  {
   "cell_type": "markdown",
   "id": "df1bea52",
   "metadata": {},
   "source": [
    "##### - Renaming the columns as per requirement"
   ]
  },
  {
   "cell_type": "code",
   "execution_count": 14,
   "id": "8343cae2",
   "metadata": {},
   "outputs": [
    {
     "data": {
      "application/vnd.jupyter.widget-view+json": {
       "model_id": "",
       "version_major": 2,
       "version_minor": 0
      },
      "text/plain": [
       "FloatProgress(value=0.0, bar_style='info', description='Progress:', layout=Layout(height='25px', width='50%'),…"
      ]
     },
     "metadata": {},
     "output_type": "display_data"
    }
   ],
   "source": [
    "DIM_LOCATION = dim_location.withColumnRenamed('atm_location','location')\\\n",
    "                            .withColumnRenamed('atm_street_name','streetname')\\\n",
    "                            .withColumnRenamed('atm_street_number','street_number')\\\n",
    "                            .withColumnRenamed('atm_zipcode','zipcode')\\\n",
    "                            .withColumnRenamed('atm_lat','lat')\\\n",
    "                            .withColumnRenamed('atm_lon','lon')"
   ]
  },
  {
   "cell_type": "markdown",
   "id": "26e65b4f",
   "metadata": {},
   "source": [
    "##### - Rearranging the columns according to the given target model"
   ]
  },
  {
   "cell_type": "code",
   "execution_count": 15,
   "id": "4d5a9dff",
   "metadata": {},
   "outputs": [
    {
     "data": {
      "application/vnd.jupyter.widget-view+json": {
       "model_id": "",
       "version_major": 2,
       "version_minor": 0
      },
      "text/plain": [
       "FloatProgress(value=0.0, bar_style='info', description='Progress:', layout=Layout(height='25px', width='50%'),…"
      ]
     },
     "metadata": {},
     "output_type": "display_data"
    }
   ],
   "source": [
    "DIM_LOCATION = DIM_LOCATION.select(\"location_id\",'location','streetname',\"street_number\",\"zipcode\",\"lat\",\"lon\")"
   ]
  },
  {
   "cell_type": "code",
   "execution_count": 16,
   "id": "d555f68f",
   "metadata": {},
   "outputs": [
    {
     "data": {
      "application/vnd.jupyter.widget-view+json": {
       "model_id": "",
       "version_major": 2,
       "version_minor": 0
      },
      "text/plain": [
       "FloatProgress(value=0.0, bar_style='info', description='Progress:', layout=Layout(height='25px', width='50%'),…"
      ]
     },
     "metadata": {},
     "output_type": "display_data"
    },
    {
     "name": "stdout",
     "output_type": "stream",
     "text": [
      "+-----------+--------------------+------------+-------------+-------+------+-----+\n",
      "|location_id|            location|  streetname|street_number|zipcode|   lat|  lon|\n",
      "+-----------+--------------------+------------+-------------+-------+------+-----+\n",
      "|          1|             Aabybro|ÃƒËœstergade|            6|   9440|57.162| 9.73|\n",
      "|          2|      Aalborg Hallen|Europa Plads|            4|   9000|57.044|9.913|\n",
      "|          3|Aalborg Storcente...|    Hobrovej|          452|   9200|57.005|9.876|\n",
      "|          4|Aalborg Storcente...|    Hobrovej|          452|   9200|57.005|9.876|\n",
      "|          5|         Aalborg Syd|    Hobrovej|          440|   9200|57.005|9.881|\n",
      "+-----------+--------------------+------------+-------------+-------+------+-----+\n",
      "only showing top 5 rows"
     ]
    }
   ],
   "source": [
    "DIM_LOCATION.show(5)"
   ]
  },
  {
   "cell_type": "markdown",
   "id": "71a1dbe0",
   "metadata": {},
   "source": [
    "##### - List of columns in the final data set"
   ]
  },
  {
   "cell_type": "code",
   "execution_count": 17,
   "id": "1cff269b",
   "metadata": {},
   "outputs": [
    {
     "data": {
      "application/vnd.jupyter.widget-view+json": {
       "model_id": "",
       "version_major": 2,
       "version_minor": 0
      },
      "text/plain": [
       "FloatProgress(value=0.0, bar_style='info', description='Progress:', layout=Layout(height='25px', width='50%'),…"
      ]
     },
     "metadata": {},
     "output_type": "display_data"
    },
    {
     "name": "stdout",
     "output_type": "stream",
     "text": [
      "['location_id', 'location', 'streetname', 'street_number', 'zipcode', 'lat', 'lon']"
     ]
    }
   ],
   "source": [
    "DIM_LOCATION.columns"
   ]
  },
  {
   "cell_type": "markdown",
   "id": "b6b6a477",
   "metadata": {},
   "source": [
    "##### - Total count of distinct records in final data set (DIM_LOCATION) meaning there are 109 different ATM locations as per the given data set."
   ]
  },
  {
   "cell_type": "code",
   "execution_count": 18,
   "id": "fab2d61d",
   "metadata": {},
   "outputs": [
    {
     "data": {
      "application/vnd.jupyter.widget-view+json": {
       "model_id": "",
       "version_major": 2,
       "version_minor": 0
      },
      "text/plain": [
       "FloatProgress(value=0.0, bar_style='info', description='Progress:', layout=Layout(height='25px', width='50%'),…"
      ]
     },
     "metadata": {},
     "output_type": "display_data"
    },
    {
     "name": "stdout",
     "output_type": "stream",
     "text": [
      "109"
     ]
    }
   ],
   "source": [
    "DIM_LOCATION.count()"
   ]
  },
  {
   "cell_type": "markdown",
   "id": "2a13890a",
   "metadata": {},
   "source": [
    "### 2. ATM Dimension - second dimension table"
   ]
  },
  {
   "cell_type": "markdown",
   "id": "1cc01426",
   "metadata": {},
   "source": [
    "##### -  Creating second data dimension for ATM dataframe, with all details for ATM identifier"
   ]
  },
  {
   "cell_type": "code",
   "execution_count": 19,
   "id": "a7c26f03",
   "metadata": {},
   "outputs": [
    {
     "data": {
      "application/vnd.jupyter.widget-view+json": {
       "model_id": "",
       "version_major": 2,
       "version_minor": 0
      },
      "text/plain": [
       "FloatProgress(value=0.0, bar_style='info', description='Progress:', layout=Layout(height='25px', width='50%'),…"
      ]
     },
     "metadata": {},
     "output_type": "display_data"
    }
   ],
   "source": [
    "dim_table2 = file1.select('atm_id', 'atm_manufacturer', 'atm_lat', 'atm_lon')"
   ]
  },
  {
   "cell_type": "markdown",
   "id": "1b574b04",
   "metadata": {},
   "source": [
    "##### - Renaming the column atm_id to atm_number as per requirement"
   ]
  },
  {
   "cell_type": "code",
   "execution_count": 20,
   "id": "d2ca16ec",
   "metadata": {},
   "outputs": [
    {
     "data": {
      "application/vnd.jupyter.widget-view+json": {
       "model_id": "",
       "version_major": 2,
       "version_minor": 0
      },
      "text/plain": [
       "FloatProgress(value=0.0, bar_style='info', description='Progress:', layout=Layout(height='25px', width='50%'),…"
      ]
     },
     "metadata": {},
     "output_type": "display_data"
    }
   ],
   "source": [
    "dim_table2 = dim_table2.withColumnRenamed('atm_id','atm_number')"
   ]
  },
  {
   "cell_type": "markdown",
   "id": "a284a4f5",
   "metadata": {},
   "source": [
    "##### - Joining the DIM_LOCATION dataframe and (dim_table2) ATM dataframes on columns atm_lat and atm_lon"
   ]
  },
  {
   "cell_type": "code",
   "execution_count": 21,
   "id": "5e343208",
   "metadata": {},
   "outputs": [
    {
     "data": {
      "application/vnd.jupyter.widget-view+json": {
       "model_id": "",
       "version_major": 2,
       "version_minor": 0
      },
      "text/plain": [
       "FloatProgress(value=0.0, bar_style='info', description='Progress:', layout=Layout(height='25px', width='50%'),…"
      ]
     },
     "metadata": {},
     "output_type": "display_data"
    }
   ],
   "source": [
    "dim_table2 = dim_table2.join(dim_location, on = ['atm_lat', 'atm_lon'], how = 'left')"
   ]
  },
  {
   "cell_type": "code",
   "execution_count": 22,
   "id": "ce0c5b64",
   "metadata": {},
   "outputs": [
    {
     "data": {
      "application/vnd.jupyter.widget-view+json": {
       "model_id": "",
       "version_major": 2,
       "version_minor": 0
      },
      "text/plain": [
       "FloatProgress(value=0.0, bar_style='info', description='Progress:', layout=Layout(height='25px', width='50%'),…"
      ]
     },
     "metadata": {},
     "output_type": "display_data"
    },
    {
     "name": "stdout",
     "output_type": "stream",
     "text": [
      "['atm_lat', 'atm_lon', 'atm_number', 'atm_manufacturer', 'atm_location', 'atm_street_name', 'atm_street_number', 'atm_zipcode', 'location_id']"
     ]
    }
   ],
   "source": [
    "dim_table2.columns"
   ]
  },
  {
   "cell_type": "markdown",
   "id": "fc9d4210",
   "metadata": {},
   "source": [
    "##### - Selecting only required columns for final data set ATM Dimension "
   ]
  },
  {
   "cell_type": "code",
   "execution_count": 23,
   "id": "a2242797",
   "metadata": {},
   "outputs": [
    {
     "data": {
      "application/vnd.jupyter.widget-view+json": {
       "model_id": "",
       "version_major": 2,
       "version_minor": 0
      },
      "text/plain": [
       "FloatProgress(value=0.0, bar_style='info', description='Progress:', layout=Layout(height='25px', width='50%'),…"
      ]
     },
     "metadata": {},
     "output_type": "display_data"
    }
   ],
   "source": [
    "DIM_ATM = dim_table2.select(\"atm_number\",\"atm_manufacturer\",\"location_id\").distinct()"
   ]
  },
  {
   "cell_type": "code",
   "execution_count": 24,
   "id": "38bbbf50",
   "metadata": {},
   "outputs": [
    {
     "data": {
      "application/vnd.jupyter.widget-view+json": {
       "model_id": "",
       "version_major": 2,
       "version_minor": 0
      },
      "text/plain": [
       "FloatProgress(value=0.0, bar_style='info', description='Progress:', layout=Layout(height='25px', width='50%'),…"
      ]
     },
     "metadata": {},
     "output_type": "display_data"
    },
    {
     "name": "stdout",
     "output_type": "stream",
     "text": [
      "156"
     ]
    }
   ],
   "source": [
    "DIM_ATM.count()"
   ]
  },
  {
   "cell_type": "markdown",
   "id": "85def3fc",
   "metadata": {},
   "source": [
    "##### - Renaming the location_id to atm_location_id for ATM data set"
   ]
  },
  {
   "cell_type": "code",
   "execution_count": 25,
   "id": "00025b02",
   "metadata": {},
   "outputs": [
    {
     "data": {
      "application/vnd.jupyter.widget-view+json": {
       "model_id": "",
       "version_major": 2,
       "version_minor": 0
      },
      "text/plain": [
       "FloatProgress(value=0.0, bar_style='info', description='Progress:', layout=Layout(height='25px', width='50%'),…"
      ]
     },
     "metadata": {},
     "output_type": "display_data"
    }
   ],
   "source": [
    "DIM_ATM = DIM_ATM.withColumnRenamed(\"location_id\",\"atm_location_id\")"
   ]
  },
  {
   "cell_type": "code",
   "execution_count": 26,
   "id": "c1b29395",
   "metadata": {},
   "outputs": [
    {
     "data": {
      "application/vnd.jupyter.widget-view+json": {
       "model_id": "",
       "version_major": 2,
       "version_minor": 0
      },
      "text/plain": [
       "FloatProgress(value=0.0, bar_style='info', description='Progress:', layout=Layout(height='25px', width='50%'),…"
      ]
     },
     "metadata": {},
     "output_type": "display_data"
    },
    {
     "name": "stdout",
     "output_type": "stream",
     "text": [
      "['atm_number', 'atm_manufacturer', 'atm_location_id']"
     ]
    }
   ],
   "source": [
    "DIM_ATM.columns"
   ]
  },
  {
   "cell_type": "markdown",
   "id": "c046412c",
   "metadata": {},
   "source": [
    "##### - Creating Primary key (**atm_id**) for ATM dimension (**DIM_ATM**)"
   ]
  },
  {
   "cell_type": "code",
   "execution_count": 27,
   "id": "c560ae57",
   "metadata": {},
   "outputs": [
    {
     "data": {
      "application/vnd.jupyter.widget-view+json": {
       "model_id": "",
       "version_major": 2,
       "version_minor": 0
      },
      "text/plain": [
       "FloatProgress(value=0.0, bar_style='info', description='Progress:', layout=Layout(height='25px', width='50%'),…"
      ]
     },
     "metadata": {},
     "output_type": "display_data"
    }
   ],
   "source": [
    "window_spec = Window.orderBy(\"atm_number\")\n",
    "DIM_ATM = DIM_ATM.withColumn(\"atm_id\", row_number().over(window_spec))"
   ]
  },
  {
   "cell_type": "markdown",
   "id": "8b80177d",
   "metadata": {},
   "source": [
    "##### - Rearranging the columns according to the given target model"
   ]
  },
  {
   "cell_type": "code",
   "execution_count": 28,
   "id": "04a74b65",
   "metadata": {},
   "outputs": [
    {
     "data": {
      "application/vnd.jupyter.widget-view+json": {
       "model_id": "",
       "version_major": 2,
       "version_minor": 0
      },
      "text/plain": [
       "FloatProgress(value=0.0, bar_style='info', description='Progress:', layout=Layout(height='25px', width='50%'),…"
      ]
     },
     "metadata": {},
     "output_type": "display_data"
    }
   ],
   "source": [
    "DIM_ATM = DIM_ATM.select(\"atm_id\",\"atm_number\",\"atm_manufacturer\",\"atm_location_id\")"
   ]
  },
  {
   "cell_type": "markdown",
   "id": "05da8e49",
   "metadata": {},
   "source": [
    "##### - List of columns in the final data set"
   ]
  },
  {
   "cell_type": "code",
   "execution_count": 29,
   "id": "6796aa6f",
   "metadata": {},
   "outputs": [
    {
     "data": {
      "application/vnd.jupyter.widget-view+json": {
       "model_id": "",
       "version_major": 2,
       "version_minor": 0
      },
      "text/plain": [
       "FloatProgress(value=0.0, bar_style='info', description='Progress:', layout=Layout(height='25px', width='50%'),…"
      ]
     },
     "metadata": {},
     "output_type": "display_data"
    },
    {
     "name": "stdout",
     "output_type": "stream",
     "text": [
      "['atm_id', 'atm_number', 'atm_manufacturer', 'atm_location_id']"
     ]
    }
   ],
   "source": [
    "DIM_ATM.columns"
   ]
  },
  {
   "cell_type": "code",
   "execution_count": 30,
   "id": "07599e80",
   "metadata": {},
   "outputs": [
    {
     "data": {
      "application/vnd.jupyter.widget-view+json": {
       "model_id": "",
       "version_major": 2,
       "version_minor": 0
      },
      "text/plain": [
       "FloatProgress(value=0.0, bar_style='info', description='Progress:', layout=Layout(height='25px', width='50%'),…"
      ]
     },
     "metadata": {},
     "output_type": "display_data"
    },
    {
     "name": "stdout",
     "output_type": "stream",
     "text": [
      "+------+----------+----------------+---------------+\n",
      "|atm_id|atm_number|atm_manufacturer|atm_location_id|\n",
      "+------+----------+----------------+---------------+\n",
      "|     1|         1|             NCR|             74|\n",
      "|     2|        10|             NCR|             76|\n",
      "|     3|       100|             NCR|             56|\n",
      "|     4|       100|             NCR|             86|\n",
      "|     5|       100|             NCR|             87|\n",
      "+------+----------+----------------+---------------+\n",
      "only showing top 5 rows"
     ]
    }
   ],
   "source": [
    "DIM_ATM.show(5)"
   ]
  },
  {
   "cell_type": "markdown",
   "id": "f3a05316",
   "metadata": {},
   "source": [
    "##### - Total count of distinct records in final data set (DIM_ATM) meaning there are 156 different ATMs."
   ]
  },
  {
   "cell_type": "code",
   "execution_count": 31,
   "id": "f0d5ed34",
   "metadata": {},
   "outputs": [
    {
     "data": {
      "application/vnd.jupyter.widget-view+json": {
       "model_id": "",
       "version_major": 2,
       "version_minor": 0
      },
      "text/plain": [
       "FloatProgress(value=0.0, bar_style='info', description='Progress:', layout=Layout(height='25px', width='50%'),…"
      ]
     },
     "metadata": {},
     "output_type": "display_data"
    },
    {
     "name": "stdout",
     "output_type": "stream",
     "text": [
      "156"
     ]
    }
   ],
   "source": [
    "DIM_ATM.distinct().count()"
   ]
  },
  {
   "cell_type": "markdown",
   "id": "47f52973",
   "metadata": {},
   "source": [
    "### 3. Date Dimension - third dimension table"
   ]
  },
  {
   "cell_type": "markdown",
   "id": "ff2ca26d",
   "metadata": {},
   "source": [
    "##### -  Creating third data dimension for Date dataframe, with all details of various dates of transactions"
   ]
  },
  {
   "cell_type": "code",
   "execution_count": 32,
   "id": "1176d738",
   "metadata": {},
   "outputs": [
    {
     "data": {
      "application/vnd.jupyter.widget-view+json": {
       "model_id": "",
       "version_major": 2,
       "version_minor": 0
      },
      "text/plain": [
       "FloatProgress(value=0.0, bar_style='info', description='Progress:', layout=Layout(height='25px', width='50%'),…"
      ]
     },
     "metadata": {},
     "output_type": "display_data"
    }
   ],
   "source": [
    "dim_table3 = file1.select(\"Year\",\"Month\",\"Day\",\"Weekday\",\"Hour\")"
   ]
  },
  {
   "cell_type": "markdown",
   "id": "3eeaa144",
   "metadata": {},
   "source": [
    "##### - Creating a new column \"full_date_time\" as per requirement by concatenating year, month, day, hour columns of data set"
   ]
  },
  {
   "cell_type": "code",
   "execution_count": 33,
   "id": "ee473e6c",
   "metadata": {},
   "outputs": [
    {
     "data": {
      "application/vnd.jupyter.widget-view+json": {
       "model_id": "",
       "version_major": 2,
       "version_minor": 0
      },
      "text/plain": [
       "FloatProgress(value=0.0, bar_style='info', description='Progress:', layout=Layout(height='25px', width='50%'),…"
      ]
     },
     "metadata": {},
     "output_type": "display_data"
    }
   ],
   "source": [
    "dim_table3 = dim_table3.withColumn(\"full_date\", concat_ws('-', dim_table3.Year, dim_table3.Month, dim_table3.Day))"
   ]
  },
  {
   "cell_type": "code",
   "execution_count": 34,
   "id": "6991d46f",
   "metadata": {},
   "outputs": [
    {
     "data": {
      "application/vnd.jupyter.widget-view+json": {
       "model_id": "",
       "version_major": 2,
       "version_minor": 0
      },
      "text/plain": [
       "FloatProgress(value=0.0, bar_style='info', description='Progress:', layout=Layout(height='25px', width='50%'),…"
      ]
     },
     "metadata": {},
     "output_type": "display_data"
    }
   ],
   "source": [
    "dim_table3 = dim_table3.withColumn(\"full_time\", concat_ws(':', dim_table3.Hour, lit('00'), lit('00')))"
   ]
  },
  {
   "cell_type": "code",
   "execution_count": 35,
   "id": "f3ce61a6",
   "metadata": {},
   "outputs": [
    {
     "data": {
      "application/vnd.jupyter.widget-view+json": {
       "model_id": "",
       "version_major": 2,
       "version_minor": 0
      },
      "text/plain": [
       "FloatProgress(value=0.0, bar_style='info', description='Progress:', layout=Layout(height='25px', width='50%'),…"
      ]
     },
     "metadata": {},
     "output_type": "display_data"
    },
    {
     "name": "stdout",
     "output_type": "stream",
     "text": [
      "+----+-------+---+-------+----+--------------+---------+\n",
      "|Year|  Month|Day|Weekday|Hour|     full_date|full_time|\n",
      "+----+-------+---+-------+----+--------------+---------+\n",
      "|2017|January|  1| Sunday|   0|2017-January-1|  0:00:00|\n",
      "|2017|January|  1| Sunday|   0|2017-January-1|  0:00:00|\n",
      "+----+-------+---+-------+----+--------------+---------+\n",
      "only showing top 2 rows"
     ]
    }
   ],
   "source": [
    "dim_table3.show(2)"
   ]
  },
  {
   "cell_type": "code",
   "execution_count": 36,
   "id": "564602af",
   "metadata": {},
   "outputs": [
    {
     "data": {
      "application/vnd.jupyter.widget-view+json": {
       "model_id": "",
       "version_major": 2,
       "version_minor": 0
      },
      "text/plain": [
       "FloatProgress(value=0.0, bar_style='info', description='Progress:', layout=Layout(height='25px', width='50%'),…"
      ]
     },
     "metadata": {},
     "output_type": "display_data"
    }
   ],
   "source": [
    "dim_table3 = dim_table3.withColumn(\"full_date_time\", concat_ws(' ' , dim_table3.full_date, dim_table3.full_time))"
   ]
  },
  {
   "cell_type": "code",
   "execution_count": 37,
   "id": "647a1807",
   "metadata": {},
   "outputs": [
    {
     "data": {
      "application/vnd.jupyter.widget-view+json": {
       "model_id": "",
       "version_major": 2,
       "version_minor": 0
      },
      "text/plain": [
       "FloatProgress(value=0.0, bar_style='info', description='Progress:', layout=Layout(height='25px', width='50%'),…"
      ]
     },
     "metadata": {},
     "output_type": "display_data"
    }
   ],
   "source": [
    "spark.conf.set(\"spark.sql.legacy.timeParserPolicy\", \"LEGACY\")"
   ]
  },
  {
   "cell_type": "code",
   "execution_count": 38,
   "id": "129a2284",
   "metadata": {},
   "outputs": [
    {
     "data": {
      "application/vnd.jupyter.widget-view+json": {
       "model_id": "",
       "version_major": 2,
       "version_minor": 0
      },
      "text/plain": [
       "FloatProgress(value=0.0, bar_style='info', description='Progress:', layout=Layout(height='25px', width='50%'),…"
      ]
     },
     "metadata": {},
     "output_type": "display_data"
    }
   ],
   "source": [
    "pattern = 'yyyy-MMM-dd HH:mm:ss'\n",
    "dim_table3 = dim_table3.withColumn('full_date_time', unix_timestamp(dim_table3['full_date_time'],pattern).cast('timestamp'))"
   ]
  },
  {
   "cell_type": "code",
   "execution_count": 39,
   "id": "f2e8bccb",
   "metadata": {},
   "outputs": [
    {
     "data": {
      "application/vnd.jupyter.widget-view+json": {
       "model_id": "",
       "version_major": 2,
       "version_minor": 0
      },
      "text/plain": [
       "FloatProgress(value=0.0, bar_style='info', description='Progress:', layout=Layout(height='25px', width='50%'),…"
      ]
     },
     "metadata": {},
     "output_type": "display_data"
    },
    {
     "name": "stdout",
     "output_type": "stream",
     "text": [
      "+----+-------+---+-------+----+--------------+---------+-------------------+\n",
      "|Year|  Month|Day|Weekday|Hour|     full_date|full_time|     full_date_time|\n",
      "+----+-------+---+-------+----+--------------+---------+-------------------+\n",
      "|2017|January|  1| Sunday|   0|2017-January-1|  0:00:00|2017-01-01 00:00:00|\n",
      "|2017|January|  1| Sunday|   0|2017-January-1|  0:00:00|2017-01-01 00:00:00|\n",
      "+----+-------+---+-------+----+--------------+---------+-------------------+\n",
      "only showing top 2 rows"
     ]
    }
   ],
   "source": [
    "dim_table3.show(2)"
   ]
  },
  {
   "cell_type": "code",
   "execution_count": 46,
   "id": "069dca5e",
   "metadata": {},
   "outputs": [
    {
     "data": {
      "application/vnd.jupyter.widget-view+json": {
       "model_id": "",
       "version_major": 2,
       "version_minor": 0
      },
      "text/plain": [
       "FloatProgress(value=0.0, bar_style='info', description='Progress:', layout=Layout(height='25px', width='50%'),…"
      ]
     },
     "metadata": {},
     "output_type": "display_data"
    }
   ],
   "source": [
    "dim_date = dim_table3.select(\"full_date_time\",\"Year\",\"Month\",\"Day\",\"Weekday\",\"Hour\").distinct()"
   ]
  },
  {
   "cell_type": "markdown",
   "id": "c9aa47f5",
   "metadata": {},
   "source": [
    "##### - Creating primary key (date_id) over timestamp"
   ]
  },
  {
   "cell_type": "code",
   "execution_count": 47,
   "id": "2af6b348",
   "metadata": {},
   "outputs": [
    {
     "data": {
      "application/vnd.jupyter.widget-view+json": {
       "model_id": "",
       "version_major": 2,
       "version_minor": 0
      },
      "text/plain": [
       "FloatProgress(value=0.0, bar_style='info', description='Progress:', layout=Layout(height='25px', width='50%'),…"
      ]
     },
     "metadata": {},
     "output_type": "display_data"
    }
   ],
   "source": [
    "window_spec = Window.orderBy(\"full_date_time\")\n",
    "DIM_DATE = dim_date.withColumn(\"date_id\", row_number().over(window_spec))"
   ]
  },
  {
   "cell_type": "code",
   "execution_count": 48,
   "id": "5ee12292",
   "metadata": {},
   "outputs": [
    {
     "data": {
      "application/vnd.jupyter.widget-view+json": {
       "model_id": "",
       "version_major": 2,
       "version_minor": 0
      },
      "text/plain": [
       "FloatProgress(value=0.0, bar_style='info', description='Progress:', layout=Layout(height='25px', width='50%'),…"
      ]
     },
     "metadata": {},
     "output_type": "display_data"
    }
   ],
   "source": [
    "DIM_DATE = DIM_DATE.select(\"date_id\",\"full_date_time\",\"Year\",\"Month\",\"Day\",\"Weekday\",\"Hour\")"
   ]
  },
  {
   "cell_type": "code",
   "execution_count": 49,
   "id": "7f94ba09",
   "metadata": {},
   "outputs": [
    {
     "data": {
      "application/vnd.jupyter.widget-view+json": {
       "model_id": "",
       "version_major": 2,
       "version_minor": 0
      },
      "text/plain": [
       "FloatProgress(value=0.0, bar_style='info', description='Progress:', layout=Layout(height='25px', width='50%'),…"
      ]
     },
     "metadata": {},
     "output_type": "display_data"
    },
    {
     "name": "stdout",
     "output_type": "stream",
     "text": [
      "+-------+-------------------+----+-------+---+-------+----+\n",
      "|date_id|     full_date_time|Year|  Month|Day|Weekday|Hour|\n",
      "+-------+-------------------+----+-------+---+-------+----+\n",
      "|      1|2017-01-01 00:00:00|2017|January|  1| Sunday|   0|\n",
      "|      2|2017-01-01 01:00:00|2017|January|  1| Sunday|   1|\n",
      "|      3|2017-01-01 02:00:00|2017|January|  1| Sunday|   2|\n",
      "|      4|2017-01-01 03:00:00|2017|January|  1| Sunday|   3|\n",
      "|      5|2017-01-01 04:00:00|2017|January|  1| Sunday|   4|\n",
      "+-------+-------------------+----+-------+---+-------+----+\n",
      "only showing top 5 rows"
     ]
    }
   ],
   "source": [
    "DIM_DATE.show(5)"
   ]
  },
  {
   "cell_type": "markdown",
   "id": "445756bc",
   "metadata": {},
   "source": [
    "##### - Total count of records in DIM_DATE dataframe"
   ]
  },
  {
   "cell_type": "code",
   "execution_count": 50,
   "id": "74282f27",
   "metadata": {},
   "outputs": [
    {
     "data": {
      "application/vnd.jupyter.widget-view+json": {
       "model_id": "",
       "version_major": 2,
       "version_minor": 0
      },
      "text/plain": [
       "FloatProgress(value=0.0, bar_style='info', description='Progress:', layout=Layout(height='25px', width='50%'),…"
      ]
     },
     "metadata": {},
     "output_type": "display_data"
    },
    {
     "name": "stdout",
     "output_type": "stream",
     "text": [
      "8685"
     ]
    }
   ],
   "source": [
    "DIM_DATE.count()"
   ]
  },
  {
   "cell_type": "markdown",
   "id": "5dc0dafc",
   "metadata": {},
   "source": [
    "### 4. Card Dimension - 4th dimension table"
   ]
  },
  {
   "cell_type": "markdown",
   "id": "040bf122",
   "metadata": {},
   "source": [
    "##### -  Creating 4th data dimension for Card Type dataframe, with the details of various types of cards used for atm transactions"
   ]
  },
  {
   "cell_type": "code",
   "execution_count": 72,
   "id": "0c40decc",
   "metadata": {},
   "outputs": [
    {
     "data": {
      "application/vnd.jupyter.widget-view+json": {
       "model_id": "",
       "version_major": 2,
       "version_minor": 0
      },
      "text/plain": [
       "FloatProgress(value=0.0, bar_style='info', description='Progress:', layout=Layout(height='25px', width='50%'),…"
      ]
     },
     "metadata": {},
     "output_type": "display_data"
    }
   ],
   "source": [
    "dim_table4 = file1.select(\"card_type\").distinct()"
   ]
  },
  {
   "cell_type": "markdown",
   "id": "3c355661",
   "metadata": {},
   "source": [
    "##### - Creating primary key (card_type_id) to identify unique card type"
   ]
  },
  {
   "cell_type": "code",
   "execution_count": 73,
   "id": "4b8db594",
   "metadata": {},
   "outputs": [
    {
     "data": {
      "application/vnd.jupyter.widget-view+json": {
       "model_id": "",
       "version_major": 2,
       "version_minor": 0
      },
      "text/plain": [
       "FloatProgress(value=0.0, bar_style='info', description='Progress:', layout=Layout(height='25px', width='50%'),…"
      ]
     },
     "metadata": {},
     "output_type": "display_data"
    }
   ],
   "source": [
    "window_spec = Window.orderBy(\"card_type\")\n",
    "DIM_CARD_TYPE = dim_table4.withColumn(\"card_type_id\", row_number().over(window_spec))"
   ]
  },
  {
   "cell_type": "code",
   "execution_count": 74,
   "id": "f77254aa",
   "metadata": {},
   "outputs": [
    {
     "data": {
      "application/vnd.jupyter.widget-view+json": {
       "model_id": "",
       "version_major": 2,
       "version_minor": 0
      },
      "text/plain": [
       "FloatProgress(value=0.0, bar_style='info', description='Progress:', layout=Layout(height='25px', width='50%'),…"
      ]
     },
     "metadata": {},
     "output_type": "display_data"
    },
    {
     "name": "stdout",
     "output_type": "stream",
     "text": [
      "+-------------------+------------+\n",
      "|          card_type|card_type_id|\n",
      "+-------------------+------------+\n",
      "|             CIRRUS|           1|\n",
      "|            Dankort|           2|\n",
      "|    Dankort - on-us|           3|\n",
      "|        HÃƒÂ¦vekort|           4|\n",
      "|HÃƒÂ¦vekort - on-us|           5|\n",
      "+-------------------+------------+\n",
      "only showing top 5 rows"
     ]
    }
   ],
   "source": [
    "DIM_CARD_TYPE.show(5)"
   ]
  },
  {
   "cell_type": "code",
   "execution_count": 75,
   "id": "ae258f09",
   "metadata": {},
   "outputs": [
    {
     "data": {
      "application/vnd.jupyter.widget-view+json": {
       "model_id": "",
       "version_major": 2,
       "version_minor": 0
      },
      "text/plain": [
       "FloatProgress(value=0.0, bar_style='info', description='Progress:', layout=Layout(height='25px', width='50%'),…"
      ]
     },
     "metadata": {},
     "output_type": "display_data"
    }
   ],
   "source": [
    "# rearranging the columns according to the given target model\n",
    "DIM_CARD_TYPE = DIM_CARD_TYPE.select(\"card_type_id\",\"card_type\")"
   ]
  },
  {
   "cell_type": "markdown",
   "id": "5e6fbe01",
   "metadata": {},
   "source": [
    "##### - Total count of card types available in the data set"
   ]
  },
  {
   "cell_type": "code",
   "execution_count": 76,
   "id": "1095f068",
   "metadata": {},
   "outputs": [
    {
     "data": {
      "application/vnd.jupyter.widget-view+json": {
       "model_id": "",
       "version_major": 2,
       "version_minor": 0
      },
      "text/plain": [
       "FloatProgress(value=0.0, bar_style='info', description='Progress:', layout=Layout(height='25px', width='50%'),…"
      ]
     },
     "metadata": {},
     "output_type": "display_data"
    },
    {
     "name": "stdout",
     "output_type": "stream",
     "text": [
      "12"
     ]
    }
   ],
   "source": [
    "DIM_CARD_TYPE.count()"
   ]
  },
  {
   "cell_type": "markdown",
   "id": "05993dfd",
   "metadata": {},
   "source": [
    "### Creating the Transaction Fact Table as per given target model"
   ]
  },
  {
   "cell_type": "markdown",
   "id": "c19a7a86",
   "metadata": {},
   "source": [
    "##### - Creating fact table for transactions with transaction amount and unique transaction id (trans_id)"
   ]
  },
  {
   "cell_type": "code",
   "execution_count": 56,
   "id": "508fcea2",
   "metadata": {},
   "outputs": [
    {
     "data": {
      "application/vnd.jupyter.widget-view+json": {
       "model_id": "",
       "version_major": 2,
       "version_minor": 0
      },
      "text/plain": [
       "FloatProgress(value=0.0, bar_style='info', description='Progress:', layout=Layout(height='25px', width='50%'),…"
      ]
     },
     "metadata": {},
     "output_type": "display_data"
    },
    {
     "name": "stdout",
     "output_type": "stream",
     "text": [
      "['Year', 'Month', 'Day', 'Weekday', 'Hour', 'atm_status', 'atm_id', 'atm_manufacturer', 'atm_location', 'atm_street_name', 'atm_street_number', 'atm_zipcode', 'atm_lat', 'atm_lon', 'currency', 'card_type', 'transaction_amount', 'service', 'message_code', 'message_text', 'weather_lat', 'weather_long', 'weather_city_id', 'weather_city_name', 'temp', 'pressure', 'humidity', 'wind_speed', 'wind_deg', 'rain_3h', 'clouds_all', 'weather_id', 'weather_main', 'weather_description']"
     ]
    }
   ],
   "source": [
    "file1.columns"
   ]
  },
  {
   "cell_type": "markdown",
   "id": "1b06dea3",
   "metadata": {},
   "source": [
    "##### - Renaming the columns of original dataframe to match the DIM_LOCATON dataframe to perform the join operation between both data sets"
   ]
  },
  {
   "cell_type": "code",
   "execution_count": 61,
   "id": "f4c9c760",
   "metadata": {},
   "outputs": [
    {
     "data": {
      "application/vnd.jupyter.widget-view+json": {
       "model_id": "",
       "version_major": 2,
       "version_minor": 0
      },
      "text/plain": [
       "FloatProgress(value=0.0, bar_style='info', description='Progress:', layout=Layout(height='25px', width='50%'),…"
      ]
     },
     "metadata": {},
     "output_type": "display_data"
    }
   ],
   "source": [
    "fact_table = file1.withColumnRenamed(\"atm_location\",\"location\").withColumnRenamed(\"atm_street_name\",\"streetname\")\\\n",
    "                  .withColumnRenamed(\"atm_street_number\",\"street_number\").withColumnRenamed(\"atm_zipcode\",\"zipcode\")\\\n",
    "                  .withColumnRenamed(\"atm_zipcode\",\"zipcode\").withColumnRenamed(\"atm_lat\",\"lat\").withColumnRenamed(\"atm_lon\",\"lon\")          "
   ]
  },
  {
   "cell_type": "markdown",
   "id": "8879abdf",
   "metadata": {},
   "source": [
    "#### - Joining the data frames (fact_table LEFT JOIN DIM_LOCATION)"
   ]
  },
  {
   "cell_type": "code",
   "execution_count": 62,
   "id": "7857d5cc",
   "metadata": {},
   "outputs": [
    {
     "data": {
      "application/vnd.jupyter.widget-view+json": {
       "model_id": "",
       "version_major": 2,
       "version_minor": 0
      },
      "text/plain": [
       "FloatProgress(value=0.0, bar_style='info', description='Progress:', layout=Layout(height='25px', width='50%'),…"
      ]
     },
     "metadata": {},
     "output_type": "display_data"
    }
   ],
   "source": [
    "fact_table = fact_table.join(DIM_LOCATION, on = ['location', 'streetname', 'street_number', 'zipcode', 'lat', 'lon'], how = \"left\")"
   ]
  },
  {
   "cell_type": "code",
   "execution_count": 64,
   "id": "5c21907f",
   "metadata": {},
   "outputs": [
    {
     "data": {
      "application/vnd.jupyter.widget-view+json": {
       "model_id": "",
       "version_major": 2,
       "version_minor": 0
      },
      "text/plain": [
       "FloatProgress(value=0.0, bar_style='info', description='Progress:', layout=Layout(height='25px', width='50%'),…"
      ]
     },
     "metadata": {},
     "output_type": "display_data"
    },
    {
     "name": "stdout",
     "output_type": "stream",
     "text": [
      "['location', 'streetname', 'street_number', 'zipcode', 'lat', 'lon', 'Year', 'Month', 'Day', 'Weekday', 'Hour', 'atm_status', 'atm_id', 'atm_manufacturer', 'currency', 'card_type', 'transaction_amount', 'service', 'message_code', 'message_text', 'weather_lat', 'weather_long', 'weather_city_id', 'weather_city_name', 'temp', 'pressure', 'humidity', 'wind_speed', 'wind_deg', 'rain_3h', 'clouds_all', 'weather_id', 'weather_main', 'weather_description', 'location_id']"
     ]
    }
   ],
   "source": [
    "fact_table.columns"
   ]
  },
  {
   "cell_type": "markdown",
   "id": "8953f387",
   "metadata": {},
   "source": [
    "#### - Joining the data frames (fact_table LEFT JOIN DIM_ATM)"
   ]
  },
  {
   "cell_type": "code",
   "execution_count": 65,
   "id": "08361b95",
   "metadata": {},
   "outputs": [
    {
     "data": {
      "application/vnd.jupyter.widget-view+json": {
       "model_id": "",
       "version_major": 2,
       "version_minor": 0
      },
      "text/plain": [
       "FloatProgress(value=0.0, bar_style='info', description='Progress:', layout=Layout(height='25px', width='50%'),…"
      ]
     },
     "metadata": {},
     "output_type": "display_data"
    }
   ],
   "source": [
    "fact_table = fact_table.withColumnRenamed(\"atm_id\",\"atm_number\").withColumnRenamed(\"location_id\",\"atm_location_id\")"
   ]
  },
  {
   "cell_type": "code",
   "execution_count": 66,
   "id": "1d88b76f",
   "metadata": {},
   "outputs": [
    {
     "data": {
      "application/vnd.jupyter.widget-view+json": {
       "model_id": "",
       "version_major": 2,
       "version_minor": 0
      },
      "text/plain": [
       "FloatProgress(value=0.0, bar_style='info', description='Progress:', layout=Layout(height='25px', width='50%'),…"
      ]
     },
     "metadata": {},
     "output_type": "display_data"
    }
   ],
   "source": [
    "fact_table = fact_table.join(DIM_ATM, on = ['atm_number', 'atm_manufacturer', 'atm_location_id'], how = \"left\")"
   ]
  },
  {
   "cell_type": "code",
   "execution_count": 67,
   "id": "8fcbb6cb",
   "metadata": {},
   "outputs": [
    {
     "data": {
      "application/vnd.jupyter.widget-view+json": {
       "model_id": "",
       "version_major": 2,
       "version_minor": 0
      },
      "text/plain": [
       "FloatProgress(value=0.0, bar_style='info', description='Progress:', layout=Layout(height='25px', width='50%'),…"
      ]
     },
     "metadata": {},
     "output_type": "display_data"
    },
    {
     "name": "stdout",
     "output_type": "stream",
     "text": [
      "+----------+----------------+---------------+----------+-----------+-------------+-------+------+------+----+-------+---+-------+----+----------+--------+----------+------------------+----------+------------+------------+-----------+------------+---------------+-----------------+------+--------+--------+----------+--------+-------+----------+----------+------------+-------------------+------+\n",
      "|atm_number|atm_manufacturer|atm_location_id|  location| streetname|street_number|zipcode|   lat|   lon|Year|  Month|Day|Weekday|Hour|atm_status|currency| card_type|transaction_amount|   service|message_code|message_text|weather_lat|weather_long|weather_city_id|weather_city_name|  temp|pressure|humidity|wind_speed|wind_deg|rain_3h|clouds_all|weather_id|weather_main|weather_description|atm_id|\n",
      "+----------+----------------+---------------+----------+-----------+-------------+-------+------+------+----+-------+---+-------+----+----------+--------+----------+------------------+----------+------------+------------+-----------+------------+---------------+-----------------+------+--------+--------+----------+--------+-------+----------+----------+------------+-------------------+------+\n",
      "|         1|             NCR|             74|NÃƒÂ¦stved|Farimagsvej|            8|   4700|55.233|11.763|2017|January|  1| Sunday|   0|    Active|     DKK|MasterCard|              5643|Withdrawal|        null|        null|      55.23|      11.761|        2616038|         Naestved|281.15|    1014|      87|         7|     260|  0.215|        92|       500|        Rain|         light rain|     1|\n",
      "|         2|             NCR|            103|  Vejgaard| Hadsundvej|           20|   9000|57.043|  9.95|2017|January|  1| Sunday|   0|  Inactive|     DKK|MasterCard|              1764|Withdrawal|        null|        null|     57.048|       9.935|        2616235|   NÃƒÂ¸rresundby|280.64|    1020|      93|         9|     250|   0.59|        92|       500|        Rain|         light rain|    39|\n",
      "+----------+----------------+---------------+----------+-----------+-------------+-------+------+------+----+-------+---+-------+----+----------+--------+----------+------------------+----------+------------+------------+-----------+------------+---------------+-----------------+------+--------+--------+----------+--------+-------+----------+----------+------------+-------------------+------+\n",
      "only showing top 2 rows"
     ]
    }
   ],
   "source": [
    "fact_table.show(2)"
   ]
  },
  {
   "cell_type": "code",
   "execution_count": 68,
   "id": "073ff414",
   "metadata": {},
   "outputs": [
    {
     "data": {
      "application/vnd.jupyter.widget-view+json": {
       "model_id": "",
       "version_major": 2,
       "version_minor": 0
      },
      "text/plain": [
       "FloatProgress(value=0.0, bar_style='info', description='Progress:', layout=Layout(height='25px', width='50%'),…"
      ]
     },
     "metadata": {},
     "output_type": "display_data"
    },
    {
     "name": "stdout",
     "output_type": "stream",
     "text": [
      "['atm_number', 'atm_manufacturer', 'atm_location_id', 'location', 'streetname', 'street_number', 'zipcode', 'lat', 'lon', 'Year', 'Month', 'Day', 'Weekday', 'Hour', 'atm_status', 'currency', 'card_type', 'transaction_amount', 'service', 'message_code', 'message_text', 'weather_lat', 'weather_long', 'weather_city_id', 'weather_city_name', 'temp', 'pressure', 'humidity', 'wind_speed', 'wind_deg', 'rain_3h', 'clouds_all', 'weather_id', 'weather_main', 'weather_description', 'atm_id']"
     ]
    }
   ],
   "source": [
    "fact_table.columns"
   ]
  },
  {
   "cell_type": "markdown",
   "id": "1a730bcd",
   "metadata": {},
   "source": [
    "#### - Joining the data frames (fact_table LEFT JOIN DIM_DATE)"
   ]
  },
  {
   "cell_type": "code",
   "execution_count": 69,
   "id": "108db4ec",
   "metadata": {},
   "outputs": [
    {
     "data": {
      "application/vnd.jupyter.widget-view+json": {
       "model_id": "",
       "version_major": 2,
       "version_minor": 0
      },
      "text/plain": [
       "FloatProgress(value=0.0, bar_style='info', description='Progress:', layout=Layout(height='25px', width='50%'),…"
      ]
     },
     "metadata": {},
     "output_type": "display_data"
    }
   ],
   "source": [
    "fact_table = fact_table.join(DIM_DATE, on = [\"Year\",\"Month\",\"Day\",\"Weekday\",\"Hour\"], how = \"left\")"
   ]
  },
  {
   "cell_type": "code",
   "execution_count": 70,
   "id": "e0b35a3a",
   "metadata": {},
   "outputs": [
    {
     "data": {
      "application/vnd.jupyter.widget-view+json": {
       "model_id": "",
       "version_major": 2,
       "version_minor": 0
      },
      "text/plain": [
       "FloatProgress(value=0.0, bar_style='info', description='Progress:', layout=Layout(height='25px', width='50%'),…"
      ]
     },
     "metadata": {},
     "output_type": "display_data"
    },
    {
     "name": "stdout",
     "output_type": "stream",
     "text": [
      "['Year', 'Month', 'Day', 'Weekday', 'Hour', 'atm_number', 'atm_manufacturer', 'atm_location_id', 'location', 'streetname', 'street_number', 'zipcode', 'lat', 'lon', 'atm_status', 'currency', 'card_type', 'transaction_amount', 'service', 'message_code', 'message_text', 'weather_lat', 'weather_long', 'weather_city_id', 'weather_city_name', 'temp', 'pressure', 'humidity', 'wind_speed', 'wind_deg', 'rain_3h', 'clouds_all', 'weather_id', 'weather_main', 'weather_description', 'atm_id', 'date_id', 'full_date_time']"
     ]
    }
   ],
   "source": [
    "fact_table.columns"
   ]
  },
  {
   "cell_type": "markdown",
   "id": "2d135574",
   "metadata": {},
   "source": [
    "#### - Joining the dataframe with DIM_CARD_TYPE"
   ]
  },
  {
   "cell_type": "code",
   "execution_count": 77,
   "id": "2ee9bdf2",
   "metadata": {},
   "outputs": [
    {
     "data": {
      "application/vnd.jupyter.widget-view+json": {
       "model_id": "",
       "version_major": 2,
       "version_minor": 0
      },
      "text/plain": [
       "FloatProgress(value=0.0, bar_style='info', description='Progress:', layout=Layout(height='25px', width='50%'),…"
      ]
     },
     "metadata": {},
     "output_type": "display_data"
    }
   ],
   "source": [
    "fact_table = fact_table.join(DIM_CARD_TYPE, on = ['card_type'], how = \"left\")"
   ]
  },
  {
   "cell_type": "code",
   "execution_count": 78,
   "id": "d1291886",
   "metadata": {},
   "outputs": [
    {
     "data": {
      "application/vnd.jupyter.widget-view+json": {
       "model_id": "",
       "version_major": 2,
       "version_minor": 0
      },
      "text/plain": [
       "FloatProgress(value=0.0, bar_style='info', description='Progress:', layout=Layout(height='25px', width='50%'),…"
      ]
     },
     "metadata": {},
     "output_type": "display_data"
    },
    {
     "name": "stdout",
     "output_type": "stream",
     "text": [
      "['card_type', 'Year', 'Month', 'Day', 'Weekday', 'Hour', 'atm_number', 'atm_manufacturer', 'atm_location_id', 'location', 'streetname', 'street_number', 'zipcode', 'lat', 'lon', 'atm_status', 'currency', 'transaction_amount', 'service', 'message_code', 'message_text', 'weather_lat', 'weather_long', 'weather_city_id', 'weather_city_name', 'temp', 'pressure', 'humidity', 'wind_speed', 'wind_deg', 'rain_3h', 'clouds_all', 'weather_id', 'weather_main', 'weather_description', 'atm_id', 'date_id', 'full_date_time', 'card_type_id']"
     ]
    }
   ],
   "source": [
    "fact_table.columns"
   ]
  },
  {
   "cell_type": "markdown",
   "id": "058efde0",
   "metadata": {},
   "source": [
    "##### - Renaming the atm_location_id to (weather_loc_id) as per given fact table schema"
   ]
  },
  {
   "cell_type": "code",
   "execution_count": 84,
   "id": "50ef3e2a",
   "metadata": {},
   "outputs": [
    {
     "data": {
      "application/vnd.jupyter.widget-view+json": {
       "model_id": "",
       "version_major": 2,
       "version_minor": 0
      },
      "text/plain": [
       "FloatProgress(value=0.0, bar_style='info', description='Progress:', layout=Layout(height='25px', width='50%'),…"
      ]
     },
     "metadata": {},
     "output_type": "display_data"
    }
   ],
   "source": [
    "fact_table = fact_table.withColumnRenamed(\"atm_location_id\",\"weather_loc_id\")"
   ]
  },
  {
   "cell_type": "markdown",
   "id": "93461a48",
   "metadata": {},
   "source": [
    "##### - Creating primary key for fact_table (trans_id) to uniquely identify each transaction"
   ]
  },
  {
   "cell_type": "code",
   "execution_count": 85,
   "id": "b67ea05c",
   "metadata": {},
   "outputs": [
    {
     "data": {
      "application/vnd.jupyter.widget-view+json": {
       "model_id": "",
       "version_major": 2,
       "version_minor": 0
      },
      "text/plain": [
       "FloatProgress(value=0.0, bar_style='info', description='Progress:', layout=Layout(height='25px', width='50%'),…"
      ]
     },
     "metadata": {},
     "output_type": "display_data"
    }
   ],
   "source": [
    " window_spec = Window.orderBy(\"date_id\")\n",
    "FACT_ATM_TRANS = fact_table.withColumn(\"trans_id\", row_number().over(window_spec))"
   ]
  },
  {
   "cell_type": "markdown",
   "id": "eceee8de",
   "metadata": {},
   "source": [
    "##### - Choosing and re-arranging the columns as per the required given model"
   ]
  },
  {
   "cell_type": "code",
   "execution_count": 86,
   "id": "d12ab348",
   "metadata": {},
   "outputs": [
    {
     "data": {
      "application/vnd.jupyter.widget-view+json": {
       "model_id": "",
       "version_major": 2,
       "version_minor": 0
      },
      "text/plain": [
       "FloatProgress(value=0.0, bar_style='info', description='Progress:', layout=Layout(height='25px', width='50%'),…"
      ]
     },
     "metadata": {},
     "output_type": "display_data"
    }
   ],
   "source": [
    "FACT_ATM_TRANS = FACT_ATM_TRANS.select('trans_id', 'atm_id', 'weather_loc_id', 'date_id', 'card_type_id', \n",
    "                                       'atm_status', 'currency', 'service', 'transaction_amount', 'message_code',\n",
    "                                       'message_text', 'rain_3h','clouds_all', 'weather_id', 'weather_main',\n",
    "                                       'weather_description')"
   ]
  },
  {
   "cell_type": "code",
   "execution_count": 87,
   "id": "fe298eec",
   "metadata": {},
   "outputs": [
    {
     "data": {
      "application/vnd.jupyter.widget-view+json": {
       "model_id": "",
       "version_major": 2,
       "version_minor": 0
      },
      "text/plain": [
       "FloatProgress(value=0.0, bar_style='info', description='Progress:', layout=Layout(height='25px', width='50%'),…"
      ]
     },
     "metadata": {},
     "output_type": "display_data"
    },
    {
     "name": "stdout",
     "output_type": "stream",
     "text": [
      "+--------+------+--------------+-------+------------+----------+--------+----------+------------------+------------+------------+-------+----------+----------+------------+--------------------+\n",
      "|trans_id|atm_id|weather_loc_id|date_id|card_type_id|atm_status|currency|   service|transaction_amount|message_code|message_text|rain_3h|clouds_all|weather_id|weather_main| weather_description|\n",
      "+--------+------+--------------+-------+------------+----------+--------+----------+------------------+------------+------------+-------+----------+----------+------------+--------------------+\n",
      "|       1|    37|           105|      1|           9|    Active|     DKK|Withdrawal|              4062|        null|        null|    0.0|        75|       300|     Drizzle|light intensity d...|\n",
      "|       2|    95|            25|      1|           9|    Active|     DKK|Withdrawal|              7452|        null|        null|   0.29|        92|       500|        Rain|          light rain|\n",
      "|       3|    95|            25|      1|           7|    Active|     DKK|Withdrawal|               887|        null|        null|   0.29|        92|       500|        Rain|          light rain|\n",
      "+--------+------+--------------+-------+------------+----------+--------+----------+------------------+------------+------------+-------+----------+----------+------------+--------------------+\n",
      "only showing top 3 rows"
     ]
    }
   ],
   "source": [
    "FACT_ATM_TRANS.show(3)"
   ]
  },
  {
   "cell_type": "markdown",
   "id": "95800f6b",
   "metadata": {},
   "source": [
    "##### - List of columns in the final fact table (FACT_ATM_TRANS)"
   ]
  },
  {
   "cell_type": "code",
   "execution_count": 88,
   "id": "2a83454f",
   "metadata": {},
   "outputs": [
    {
     "data": {
      "application/vnd.jupyter.widget-view+json": {
       "model_id": "",
       "version_major": 2,
       "version_minor": 0
      },
      "text/plain": [
       "FloatProgress(value=0.0, bar_style='info', description='Progress:', layout=Layout(height='25px', width='50%'),…"
      ]
     },
     "metadata": {},
     "output_type": "display_data"
    },
    {
     "name": "stdout",
     "output_type": "stream",
     "text": [
      "['trans_id', 'atm_id', 'weather_loc_id', 'date_id', 'card_type_id', 'atm_status', 'currency', 'service', 'transaction_amount', 'message_code', 'message_text', 'rain_3h', 'clouds_all', 'weather_id', 'weather_main', 'weather_description']"
     ]
    }
   ],
   "source": [
    "FACT_ATM_TRANS.columns"
   ]
  },
  {
   "cell_type": "markdown",
   "id": "7342e3e7",
   "metadata": {},
   "source": [
    "##### - Total count of records in fact table"
   ]
  },
  {
   "cell_type": "code",
   "execution_count": 89,
   "id": "43fc42d9",
   "metadata": {},
   "outputs": [
    {
     "data": {
      "application/vnd.jupyter.widget-view+json": {
       "model_id": "",
       "version_major": 2,
       "version_minor": 0
      },
      "text/plain": [
       "FloatProgress(value=0.0, bar_style='info', description='Progress:', layout=Layout(height='25px', width='50%'),…"
      ]
     },
     "metadata": {},
     "output_type": "display_data"
    },
    {
     "name": "stdout",
     "output_type": "stream",
     "text": [
      "2468572"
     ]
    }
   ],
   "source": [
    "FACT_ATM_TRANS.count()"
   ]
  },
  {
   "cell_type": "markdown",
   "id": "dfd7c417",
   "metadata": {},
   "source": [
    "## Loading the PySpark dimension and fact tables into Amazon S3 bucket"
   ]
  },
  {
   "cell_type": "markdown",
   "id": "2fd32b57",
   "metadata": {},
   "source": [
    "##### - Transferring DIM_LOCATION dataframe to AWS S3 table"
   ]
  },
  {
   "cell_type": "code",
   "execution_count": 91,
   "id": "294354f5",
   "metadata": {},
   "outputs": [
    {
     "data": {
      "application/vnd.jupyter.widget-view+json": {
       "model_id": "",
       "version_major": 2,
       "version_minor": 0
      },
      "text/plain": [
       "FloatProgress(value=0.0, bar_style='info', description='Progress:', layout=Layout(height='25px', width='50%'),…"
      ]
     },
     "metadata": {},
     "output_type": "display_data"
    }
   ],
   "source": [
    "DIM_LOCATION.write.format('csv').option('header','false').save('s3://atmdatasetforetl/dim_location/',mode='overwrite')"
   ]
  },
  {
   "cell_type": "markdown",
   "id": "43450a47",
   "metadata": {},
   "source": [
    "##### - Transferring DIM_ATM dataframe to AWS S3 table"
   ]
  },
  {
   "cell_type": "code",
   "execution_count": 92,
   "id": "633ec23b",
   "metadata": {},
   "outputs": [
    {
     "data": {
      "application/vnd.jupyter.widget-view+json": {
       "model_id": "",
       "version_major": 2,
       "version_minor": 0
      },
      "text/plain": [
       "FloatProgress(value=0.0, bar_style='info', description='Progress:', layout=Layout(height='25px', width='50%'),…"
      ]
     },
     "metadata": {},
     "output_type": "display_data"
    }
   ],
   "source": [
    "DIM_ATM.write.format('csv').option('header','false').save('s3://atmdatasetforetl/dim_atm/',mode='overwrite')"
   ]
  },
  {
   "cell_type": "markdown",
   "id": "4587877d",
   "metadata": {},
   "source": [
    "##### - Transferring DIM_DATE dataframe to AWS S3 table"
   ]
  },
  {
   "cell_type": "code",
   "execution_count": 93,
   "id": "12016028",
   "metadata": {},
   "outputs": [
    {
     "data": {
      "application/vnd.jupyter.widget-view+json": {
       "model_id": "",
       "version_major": 2,
       "version_minor": 0
      },
      "text/plain": [
       "FloatProgress(value=0.0, bar_style='info', description='Progress:', layout=Layout(height='25px', width='50%'),…"
      ]
     },
     "metadata": {},
     "output_type": "display_data"
    }
   ],
   "source": [
    "DIM_DATE.write.format('csv').option('header','false').save('s3://atmdatasetforetl/dim_date/',mode='overwrite')"
   ]
  },
  {
   "cell_type": "markdown",
   "id": "9be477e9",
   "metadata": {},
   "source": [
    "##### - Transferring DIM_CARD_TYPE dataframe to AWS S3 table"
   ]
  },
  {
   "cell_type": "code",
   "execution_count": 94,
   "id": "c87a6487",
   "metadata": {},
   "outputs": [
    {
     "data": {
      "application/vnd.jupyter.widget-view+json": {
       "model_id": "",
       "version_major": 2,
       "version_minor": 0
      },
      "text/plain": [
       "FloatProgress(value=0.0, bar_style='info', description='Progress:', layout=Layout(height='25px', width='50%'),…"
      ]
     },
     "metadata": {},
     "output_type": "display_data"
    }
   ],
   "source": [
    "DIM_CARD_TYPE.write.format('csv').option('header','false').save('s3://atmdatasetforetl/dim_card_type/',mode='overwrite')"
   ]
  },
  {
   "cell_type": "markdown",
   "id": "47f9cd7d",
   "metadata": {},
   "source": [
    "##### - Transferring FACT_ATM_TRANS dataframe to AWS S3 table"
   ]
  },
  {
   "cell_type": "code",
   "execution_count": 96,
   "id": "4a35e1f2",
   "metadata": {},
   "outputs": [
    {
     "data": {
      "application/vnd.jupyter.widget-view+json": {
       "model_id": "",
       "version_major": 2,
       "version_minor": 0
      },
      "text/plain": [
       "FloatProgress(value=0.0, bar_style='info', description='Progress:', layout=Layout(height='25px', width='50%'),…"
      ]
     },
     "metadata": {},
     "output_type": "display_data"
    }
   ],
   "source": [
    "FACT_ATM_TRANS.write.format('csv').option('header','false').save('s3://atmdatasetforetl/fact_atm_trans/',mode='overwrite')"
   ]
  },
  {
   "cell_type": "markdown",
   "id": "a1b706e3",
   "metadata": {},
   "source": [
    "#### - All the dataframes created above (4 dimension tables and 1 fact table) are transferred to AWS S3 location for further usage in Redshift queries."
   ]
  },
  {
   "cell_type": "code",
   "execution_count": null,
   "id": "63c0572f",
   "metadata": {},
   "outputs": [],
   "source": []
  }
 ],
 "metadata": {
  "kernelspec": {
   "display_name": "Python 3 (ipykernel)",
   "language": "python",
   "name": "python3"
  },
  "language_info": {
   "codemirror_mode": {
    "name": "ipython",
    "version": 3
   },
   "file_extension": ".py",
   "mimetype": "text/x-python",
   "name": "python",
   "nbconvert_exporter": "python",
   "pygments_lexer": "ipython3",
   "version": "3.10.9"
  }
 },
 "nbformat": 4,
 "nbformat_minor": 5
}
